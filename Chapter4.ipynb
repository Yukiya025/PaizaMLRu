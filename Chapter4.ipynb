{
 "cells": [
  {
   "cell_type": "markdown",
   "metadata": {},
   "source": [
    "# Chapter4 画像から特徴量を抽出しよう\n",
    "まずは必要なライブラリをすべてインポートします。"
   ]
  },
  {
   "cell_type": "code",
   "execution_count": 9,
   "metadata": {},
   "outputs": [],
   "source": [
    "import cv2\n",
    "import numpy as np\n",
    "from matplotlib import pyplot as plt\n",
    "import pandas as pd\n",
    "import sklearn\n",
    "from sklearn.model_selection import train_test_split\n",
    "from sklearn.neighbors import KNeighborsClassifier"
   ]
  },
  {
   "cell_type": "markdown",
   "metadata": {},
   "source": [
    "## PythonのOpenCVで画像ファイルを読み込んで保存\n",
    "\n",
    "**読み込み**\n",
    "`cv2.imread`の第二引数に`cv2.IMREAD_GRAYSCALE`を指定することで、カラーの画像ファイルをグレースケール（白黒）で読み込むことができる。`cv2.IMREAD_GRAYSCALE`は`0`なので、`0`を指定してもOK。\n",
    "\n",
    "エッジ検出など、色情報が必要ないときに便利。\n",
    "\n",
    "**書き込み**\n",
    "ファイルのパスと`ndarray`オブジェクトを引数として指定する。\n",
    "- `np.ndarray`: N-d Array すなわちN次元配列を扱うためのクラスです。"
   ]
  },
  {
   "cell_type": "code",
   "execution_count": 10,
   "metadata": {},
   "outputs": [
    {
     "name": "stdout",
     "output_type": "stream",
     "text": [
      "[[255 255 255 ... 255 255 255]\n",
      " [255 255 255 ... 255 255 255]\n",
      " [255 255 255 ... 255 255 255]\n",
      " ...\n",
      " [255 255 255 ... 255 255 255]\n",
      " [255 255 255 ... 255 255 255]\n",
      " [255 255 255 ... 255 255 255]]\n"
     ]
    }
   ],
   "source": [
    "img = cv2.imread('image/000.jpg', cv2.IMREAD_GRAYSCALE)\n",
    "cv2.imwrite('gray000.jpg',img)\n",
    "print(img)"
   ]
  },
  {
   "cell_type": "code",
   "execution_count": 11,
   "metadata": {},
   "outputs": [
    {
     "name": "stdout",
     "output_type": "stream",
     "text": [
      "<class 'numpy.ndarray'>\n",
      "(375, 435)\n",
      "uint8\n"
     ]
    }
   ],
   "source": [
    "print(type(img))\n",
    "print(img.shape)\n",
    "print(img.dtype)"
   ]
  },
  {
   "cell_type": "markdown",
   "metadata": {},
   "source": [
    "- `ravel()`: numpyの多次元配列を一次元配列にする。\n",
    "下記の`print(img.ravel().shape)`では163,125個の要素の一次元配列であることがわかる。"
   ]
  },
  {
   "cell_type": "code",
   "execution_count": 12,
   "metadata": {},
   "outputs": [
    {
     "name": "stdout",
     "output_type": "stream",
     "text": [
      "(163125,)\n"
     ]
    }
   ],
   "source": [
    "print(img.ravel().shape)"
   ]
  },
  {
   "cell_type": "markdown",
   "metadata": {},
   "source": [
    "### ヒストグラム\n",
    "ヒストグラムとは画像中の画素値の全体的な分布を知るためのグラフやプロットのこと。\n",
    "- 画素値: 点につけた色を数字で表現したもの。フルカラーなら、光の三原色である赤、緑、青それぞれを0～255の256階調で表現。\n",
    "- グレースケールなら1画素を8ビットで表し、色情報は含まず明るさ情報のみを含む。\n",
    "    - この8ビット画像では、濃淡を2の8乗＝256階調まで表すことができる。\n",
    "    - 画素値0が黒、画素値255が白\n",
    "- 横軸が画素値、縦軸が画素値の出現頻度\n",
    "#### 参考サイト\n",
    "- [ヒストグラム その1: 計算して，プロットして，解析する !!!](http://labs.eecs.tottori-u.ac.jp/sd/Member/oyamada/OpenCV/html/py_tutorials/py_imgproc/py_histograms/py_histogram_begins/py_histogram_begins.html)"
   ]
  },
  {
   "cell_type": "code",
   "execution_count": 33,
   "metadata": {},
   "outputs": [
    {
     "data": {
      "image/png": "[encoded data removed]",
      "text/plain": [
       "<Figure size 432x288 with 1 Axes>"
      ]
     },
     "metadata": {
      "needs_background": "light"
     },
     "output_type": "display_data"
    }
   ],
   "source": [
    "# ヒストグラムを描画し、明るさごとの出現頻度を可視化。\n",
    "def plot_hist(img):\n",
    "    img_hist = np.histogram(img.ravel(), 256, [0,256])\n",
    "    hist = img_hist[0]\n",
    "    plt.bar(np.arange(256), hist)\n",
    "    plt.show()\n",
    "plot_hist(cv2.imread('image/000.jpg', cv2.IMREAD_GRAYSCALE)) # \"Kirishima\" 1"
   ]
  },
  {
   "cell_type": "markdown",
   "metadata": {},
   "source": [
    "次は、画像001~002のヒストグラムを描画してみる。\"Kirishima\"が存在する画像には画素数150前後に目立つ棒がそれぞれ1本あるのがわかる。"
   ]
  },
  {
   "cell_type": "code",
   "execution_count": 35,
   "metadata": {},
   "outputs": [
    {
     "name": "stdout",
     "output_type": "stream",
     "text": [
      "000 kirishimaがいる↓\n"
     ]
    },
    {
     "data": {
      "image/png": "[encoded data removed]",
      "text/plain": [
       "<Figure size 432x288 with 1 Axes>"
      ]
     },
     "metadata": {
      "needs_background": "light"
     },
     "output_type": "display_data"
    },
    {
     "name": "stdout",
     "output_type": "stream",
     "text": [
      "001 kirishimaがいない↓\n"
     ]
    },
    {
     "data": {
      "image/png": "[encoded data removed]",
      "text/plain": [
       "<Figure size 432x288 with 1 Axes>"
      ]
     },
     "metadata": {
      "needs_background": "light"
     },
     "output_type": "display_data"
    },
    {
     "name": "stdout",
     "output_type": "stream",
     "text": [
      "002 kirishimaがいる↓\n"
     ]
    },
    {
     "data": {
      "image/png": "[encoded data removed]",
      "text/plain": [
       "<Figure size 432x288 with 1 Axes>"
      ]
     },
     "metadata": {
      "needs_background": "light"
     },
     "output_type": "display_data"
    }
   ],
   "source": [
    "print(\"000 kirishimaがいる↓\")\n",
    "plot_hist(cv2.imread('image/000.jpg', cv2.IMREAD_GRAYSCALE)) # \"Kirishima\" 1\n",
    "print(\"001 kirishimaがいない↓\")\n",
    "plot_hist(cv2.imread('image/001.jpg', cv2.IMREAD_GRAYSCALE)) # \"Kirishima\" 0\n",
    "print(\"002 kirishimaがいる↓\")\n",
    "plot_hist(cv2.imread('image/002.jpg', cv2.IMREAD_GRAYSCALE)) # \"Kirishima\" 1"
   ]
  },
  {
   "cell_type": "markdown",
   "metadata": {},
   "source": [
    "# Chapter5\n",
    "教師ファイルを表示する。'Kirishima'項目のみ。"
   ]
  },
  {
   "cell_type": "code",
   "execution_count": 36,
   "metadata": {},
   "outputs": [
    {
     "name": "stdout",
     "output_type": "stream",
     "text": [
      "0     1\n",
      "1     0\n",
      "2     1\n",
      "3     0\n",
      "4     1\n",
      "5     0\n",
      "6     0\n",
      "7     1\n",
      "8     1\n",
      "9     0\n",
      "10    1\n",
      "11    0\n",
      "12    1\n",
      "13    0\n",
      "14    0\n",
      "15    1\n",
      "16    1\n",
      "17    1\n",
      "18    1\n",
      "19    1\n",
      "20    1\n",
      "21    1\n",
      "22    1\n",
      "23    0\n",
      "24    1\n",
      "25    1\n",
      "26    0\n",
      "27    1\n",
      "28    1\n",
      "29    1\n",
      "     ..\n",
      "70    1\n",
      "71    1\n",
      "72    1\n",
      "73    1\n",
      "74    1\n",
      "75    1\n",
      "76    1\n",
      "77    0\n",
      "78    0\n",
      "79    0\n",
      "80    0\n",
      "81    0\n",
      "82    1\n",
      "83    1\n",
      "84    0\n",
      "85    1\n",
      "86    1\n",
      "87    1\n",
      "88    1\n",
      "89    0\n",
      "90    0\n",
      "91    1\n",
      "92    1\n",
      "93    0\n",
      "94    1\n",
      "95    1\n",
      "96    0\n",
      "97    1\n",
      "98    1\n",
      "99    1\n",
      "Name: Kirishima, Length: 100, dtype: int64\n"
     ]
    }
   ],
   "source": [
    "targets_data = pd.read_csv('y_classified.csv')\n",
    "print(targets_data['Kirishima'])"
   ]
  },
  {
   "cell_type": "code",
   "execution_count": 16,
   "metadata": {},
   "outputs": [],
   "source": [
    "images = []\n",
    "for i in range(100):\n",
    "    file = ('image/%03d.jpg'%(i))\n",
    "    img = cv2.imread(file, cv2.IMREAD_GRAYSCALE)\n",
    "    images.append(img)"
   ]
  },
  {
   "cell_type": "code",
   "execution_count": 17,
   "metadata": {},
   "outputs": [],
   "source": [
    "images_data = np.empty((100, len(images[0].ravel())), int)\n",
    "for i in range(100):\n",
    "    images_data[i] = np.array([images[i].ravel()])"
   ]
  },
  {
   "cell_type": "code",
   "execution_count": 18,
   "metadata": {},
   "outputs": [
    {
     "name": "stdout",
     "output_type": "stream",
     "text": [
      "(100, 163125)\n"
     ]
    }
   ],
   "source": [
    "print(images_data.shape)"
   ]
  },
  {
   "cell_type": "code",
   "execution_count": 19,
   "metadata": {},
   "outputs": [],
   "source": [
    "# -4:12\n",
    "X_train, X_test, y_train, y_test = train_test_split(images_data, targets_data['Kirishima'], random_state = 0)"
   ]
  },
  {
   "cell_type": "code",
   "execution_count": 20,
   "metadata": {},
   "outputs": [
    {
     "name": "stdout",
     "output_type": "stream",
     "text": [
      "(75, 163125)\n",
      "(25, 163125)\n",
      "(75,)\n",
      "(25,)\n"
     ]
    }
   ],
   "source": [
    "print(X_train.shape)\n",
    "print(X_test.shape)\n",
    "print(y_train.shape)\n",
    "print(y_test.shape)"
   ]
  },
  {
   "cell_type": "code",
   "execution_count": 21,
   "metadata": {},
   "outputs": [
    {
     "data": {
      "text/plain": [
       "KNeighborsClassifier(algorithm='auto', leaf_size=30, metric='minkowski',\n",
       "           metric_params=None, n_jobs=1, n_neighbors=1, p=2,\n",
       "           weights='uniform')"
      ]
     },
     "execution_count": 21,
     "metadata": {},
     "output_type": "execute_result"
    }
   ],
   "source": [
    "knn = KNeighborsClassifier(n_neighbors = 1)\n",
    "\n",
    "# 教師データXの入力データ(X_train)とそれに対応する期待する出力データy_train\n",
    "knn.fit(X_train, y_train)\n",
    "# この時点で学習完了"
   ]
  },
  {
   "cell_type": "code",
   "execution_count": 22,
   "metadata": {},
   "outputs": [
    {
     "name": "stdout",
     "output_type": "stream",
     "text": [
      "[1]\n",
      "26    0\n",
      "86    1\n",
      "2     1\n",
      "55    0\n",
      "75    1\n",
      "93    0\n",
      "16    1\n",
      "73    1\n",
      "54    1\n",
      "95    1\n",
      "53    0\n",
      "92    1\n",
      "78    0\n",
      "13    0\n",
      "7     1\n",
      "30    0\n",
      "22    1\n",
      "24    1\n",
      "33    0\n",
      "8     1\n",
      "43    1\n",
      "62    1\n",
      "3     0\n",
      "71    1\n",
      "45    0\n",
      "Name: Kirishima, dtype: int64\n"
     ]
    }
   ],
   "source": [
    "#　分類結果を試してみる\n",
    "print(knn.predict(np.array([X_test[0]])))\n",
    "print(y_test)\n",
    "#　しかしうまくいっていない"
   ]
  },
  {
   "cell_type": "code",
   "execution_count": 23,
   "metadata": {},
   "outputs": [
    {
     "name": "stdout",
     "output_type": "stream",
     "text": [
      "[1 1 1 0]\n",
      "26    0\n",
      "86    1\n",
      "2     1\n",
      "55    0\n",
      "75    1\n",
      "93    0\n",
      "16    1\n",
      "73    1\n",
      "54    1\n",
      "95    1\n",
      "53    0\n",
      "92    1\n",
      "78    0\n",
      "13    0\n",
      "7     1\n",
      "30    0\n",
      "22    1\n",
      "24    1\n",
      "33    0\n",
      "8     1\n",
      "43    1\n",
      "62    1\n",
      "3     0\n",
      "71    1\n",
      "45    0\n",
      "Name: Kirishima, dtype: int64\n"
     ]
    }
   ],
   "source": [
    "# 予測するデータを4つまで増やしてみる。np.arrayの要素に他の予測データを入れる。\n",
    "print(knn.predict(np.array([X_test[0], X_test[1], X_test[2], X_test[3]])))\n",
    "print(y_test)"
   ]
  },
  {
   "cell_type": "code",
   "execution_count": 24,
   "metadata": {},
   "outputs": [
    {
     "name": "stdout",
     "output_type": "stream",
     "text": [
      "[1 1 1 0 0 1 1 1 1 1 1 1 0 1 1 0 0 1 1 1 0 1 1 0 0]\n"
     ]
    }
   ],
   "source": [
    "y_pred = knn.predict(X_test)\n",
    "print(y_pred)"
   ]
  },
  {
   "cell_type": "code",
   "execution_count": 25,
   "metadata": {},
   "outputs": [
    {
     "name": "stdout",
     "output_type": "stream",
     "text": [
      "0.6\n"
     ]
    }
   ],
   "source": [
    "# mean()を使って正解率を表示\n",
    "print(np.mean(y_pred == y_test))"
   ]
  },
  {
   "cell_type": "markdown",
   "metadata": {},
   "source": [
    "# Chapter 6\n",
    "Chapter6では、Chapter5より精度を上げるのが目標。"
   ]
  },
  {
   "cell_type": "code",
   "execution_count": 26,
   "metadata": {},
   "outputs": [],
   "source": [
    "import cv2\n",
    "import numpy as np\n",
    "from matplotlib import pyplot as plt\n",
    "import pandas as pd\n",
    "import sklearn\n",
    "from sklearn.model_selection import train_test_split\n",
    "from sklearn.neighbors import KNeighborsClassifier\n",
    "\n",
    "targets_data = pd.read_csv('y_classified.csv')"
   ]
  },
  {
   "cell_type": "code",
   "execution_count": 27,
   "metadata": {},
   "outputs": [
    {
     "name": "stdout",
     "output_type": "stream",
     "text": [
      "(100, 256)\n"
     ]
    }
   ],
   "source": [
    "images_data = np.empty((0,256), int)\n",
    "\n",
    "for i in range(100):\n",
    "    jpg = ('image/%03d.jpg' %(i))\n",
    "    img = cv2.imread(jpg, cv2.IMREAD_GRAYSCALE)\n",
    "    hist = np.histogram(img.ravel(), 256, [0,256])\n",
    "    images_data = np.append(images_data, np.array([hist[0]]), axis=0)\n",
    "    \n",
    "print(images_data.shape)"
   ]
  },
  {
   "cell_type": "code",
   "execution_count": 28,
   "metadata": {},
   "outputs": [
    {
     "name": "stdout",
     "output_type": "stream",
     "text": [
      "(75, 256)\n",
      "(25, 256)\n",
      "(75,)\n",
      "(25,)\n"
     ]
    }
   ],
   "source": [
    "X_train, X_test, y_train, y_test = train_test_split(images_data, targets_data['Kirishima'], random_state = 0)\n",
    "\n",
    "print(X_train.shape)\n",
    "print(X_test.shape)\n",
    "print(y_train.shape)\n",
    "print(y_test.shape)"
   ]
  },
  {
   "cell_type": "code",
   "execution_count": 29,
   "metadata": {},
   "outputs": [
    {
     "data": {
      "text/plain": [
       "KNeighborsClassifier(algorithm='auto', leaf_size=30, metric='minkowski',\n",
       "           metric_params=None, n_jobs=1, n_neighbors=1, p=2,\n",
       "           weights='uniform')"
      ]
     },
     "execution_count": 29,
     "metadata": {},
     "output_type": "execute_result"
    }
   ],
   "source": [
    "knn = KNeighborsClassifier(n_neighbors = 1)\n",
    "\n",
    "# 教師データXの入力データ(X_train)とそれに対応する期待する出力データy_train\n",
    "knn.fit(X_train, y_train)\n",
    "# この時点で学習完了"
   ]
  },
  {
   "cell_type": "code",
   "execution_count": 30,
   "metadata": {},
   "outputs": [
    {
     "name": "stdout",
     "output_type": "stream",
     "text": [
      "[1]\n"
     ]
    }
   ],
   "source": [
    "#2:16\n",
    "print(knn.predict(np.array([X_test[0]])))"
   ]
  },
  {
   "cell_type": "code",
   "execution_count": 31,
   "metadata": {},
   "outputs": [
    {
     "name": "stdout",
     "output_type": "stream",
     "text": [
      "[1 1 1 0]\n",
      "26    0\n",
      "86    1\n",
      "2     1\n",
      "55    0\n",
      "75    1\n",
      "93    0\n",
      "16    1\n",
      "73    1\n",
      "54    1\n",
      "95    1\n",
      "53    0\n",
      "92    1\n",
      "78    0\n",
      "13    0\n",
      "7     1\n",
      "30    0\n",
      "22    1\n",
      "24    1\n",
      "33    0\n",
      "8     1\n",
      "43    1\n",
      "62    1\n",
      "3     0\n",
      "71    1\n",
      "45    0\n",
      "Name: Kirishima, dtype: int64\n"
     ]
    }
   ],
   "source": [
    "print(knn.predict(np.array([X_test[0], X_test[1], X_test[2], X_test[3]])))\n",
    "print(y_test)"
   ]
  },
  {
   "cell_type": "code",
   "execution_count": 32,
   "metadata": {},
   "outputs": [
    {
     "name": "stdout",
     "output_type": "stream",
     "text": [
      "[1 1 1 0 1 0 1 1 1 1 1 1 1 0 1 0 1 1 1 1 1 1 0 1 0]\n",
      "0.84\n"
     ]
    }
   ],
   "source": [
    "y_pred = knn.predict(X_test)\n",
    "print(y_pred)\n",
    "print(np.mean(y_pred == y_test))"
   ]
  },
  {
   "cell_type": "code",
   "execution_count": null,
   "metadata": {},
   "outputs": [],
   "source": []
  }
 ],
 "metadata": {
  "kernelspec": {
   "display_name": "Python 3",
   "language": "python",
   "name": "python3"
  },
  "language_info": {
   "codemirror_mode": {
    "name": "ipython",
    "version": 3
   },
   "file_extension": ".py",
   "mimetype": "text/x-python",
   "name": "python",
   "nbconvert_exporter": "python",
   "pygments_lexer": "ipython3",
   "version": "3.5.6"
  }
 },
 "nbformat": 4,
 "nbformat_minor": 2
}
